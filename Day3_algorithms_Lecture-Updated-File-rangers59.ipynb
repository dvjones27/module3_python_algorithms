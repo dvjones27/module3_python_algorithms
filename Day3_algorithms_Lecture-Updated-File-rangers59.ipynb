{
 "cells": [
  {
   "cell_type": "markdown",
   "metadata": {},
   "source": [
    "# Algorithms, Binary Search & Linked Lists"
   ]
  },
  {
   "cell_type": "markdown",
   "metadata": {},
   "source": [
    "## Tasks Today:\n",
    " \n",
    "1) <b>In-Place Algorithms</b> <br>\n",
    " &nbsp;&nbsp;&nbsp;&nbsp; a) Syntax <br>\n",
    " &nbsp;&nbsp;&nbsp;&nbsp; a) Out of Place Algorithm <br>\n",
    " &nbsp;&nbsp;&nbsp;&nbsp; b) In-Class Exercise #1 <br>\n",
    "2) <b>Two Pointers</b> <br>\n",
    "3) <b>Linked Lists</b> <br>\n",
    "4) <b>Merge Sort</b> <br>\n",
    " &nbsp;&nbsp;&nbsp;&nbsp; a) Video on Algorithms <br>\n",
    " &nbsp;&nbsp;&nbsp;&nbsp; b) How it Works <br>\n",
    "5) <b>Exercises</b> <br>\n",
    " &nbsp;&nbsp;&nbsp;&nbsp; a) Exercise #1 - Reverse a List in Place Using an In-Place Algorithm <br>\n",
    " &nbsp;&nbsp;&nbsp;&nbsp; b) Exercise #2 - Find Distinct Words <br>\n",
    " &nbsp;&nbsp;&nbsp;&nbsp; c) Exercise #3 - Write a program to implement a Linear Search Algorithm. <br>"
   ]
  },
  {
   "cell_type": "markdown",
   "metadata": {},
   "source": [
    "## In-Place Algorithms"
   ]
  },
  {
   "cell_type": "markdown",
   "metadata": {},
   "source": [
    "#### Syntax"
   ]
  },
  {
   "cell_type": "code",
   "execution_count": 4,
   "metadata": {},
   "outputs": [
    {
     "name": "stdout",
     "output_type": "stream",
     "text": [
      "Before Swap: [20, 4, 10]\n",
      "After Swap: [4, 20, 10]\n"
     ]
    }
   ],
   "source": [
    "#var[i], var[i + 1] = var[i + 1] , var[i]\n",
    "# swap  algorithm\n",
    "\n",
    "def swap(a_list, x, y, z):\n",
    "    a_list[x], a_list[y], a_list[z] = a_list[z], a_list[y], a_list[x]\n",
    "    return a_list\n",
    "\n",
    "my_list = [20, 4, 10]\n",
    "print(f\"Before Swap: {my_list}\")\n",
    "\n",
    "#swap\n",
    "swap(my_list, 0, 2, 1)\n",
    "print(f\"After Swap: {my_list}\")\n",
    "\n",
    "\n"
   ]
  },
  {
   "cell_type": "markdown",
   "metadata": {},
   "source": [
    "#### Out of Place Algorithm"
   ]
  },
  {
   "cell_type": "code",
   "execution_count": 15,
   "metadata": {},
   "outputs": [
    {
     "name": "stdout",
     "output_type": "stream",
     "text": [
      "[10, 20, 4]\n",
      "[4, 20, 10]\n",
      "Before: ['a', 'b', 'c', 'd']\n",
      "After: ['a', 'a', 'a', 'a']\n",
      "New After: ['d', 'c', 'b', 'a']\n"
     ]
    }
   ],
   "source": [
    "#Not swapping completely but also coppies\n",
    "\n",
    "my_list_copy = my_list[::-1]\n",
    "print(my_list_copy)\n",
    "print(my_list)\n",
    "\n",
    "array = [\"a\", \"b\", \"c\", \"d\"]\n",
    "new_array = [\"a\"] * len(array)\n",
    "\n",
    "print(f\"Before: {array}\")\n",
    "print(f\"After: {new_array}\")\n",
    "\n",
    "length = len(array) -1\n",
    "for i in range(length):\n",
    "    new_array[i] = array[length - i]\n",
    "#     print(new_array[i])\n",
    "# array = new_array\n",
    "print(f\"New After: {new_array}\")\n",
    "    "
   ]
  },
  {
   "cell_type": "markdown",
   "metadata": {},
   "source": [
    "#### In-Class Exercise #1 <br>\n",
    "<p>Write a function that takes in four arguments (list, index1, index2, index3), and swaps those three positions in the list passed in.</p>"
   ]
  },
  {
   "cell_type": "code",
   "execution_count": 29,
   "metadata": {},
   "outputs": [
    {
     "name": "stdout",
     "output_type": "stream",
     "text": [
      "Before Swap: [10, 4, 3, 8, 4, 2, 6]\n",
      "After Swap: [10, 2, 3, 8, 4, 4, 6]\n",
      "Before Swap: ['a', 'b', 'c', 'd', 'e']\n",
      "After Swap: ['e', 'b', 'c', 'd', 'a']\n",
      "New After: ['a', 'd', 'c', 'd', 'a']\n"
     ]
    }
   ],
   "source": [
    "l_1 = [10, 4, 3, 8, 4, 2, 6]\n",
    "\n",
    "\n",
    "\n",
    "def ex1a(new_list, a, b, c):\n",
    "    new_list[a], new_list[b], new_list[c] = new_list[c], new_list[b], new_list[a]\n",
    "    return new_list\n",
    "\n",
    "def ex1b(new_array, m, n, o, p, q):\n",
    "    new_array[m], new_array[n], new_array[o], new_array[p], new_array[q] = new_array[q], new_array[p], new_array[o], new_array[n], new_array[m]\n",
    "    return new_array\n",
    "\n",
    "\n",
    "# nl_list = [10, 100, 1000]\n",
    "print(f\"Before Swap: {l_1}\")\n",
    "\n",
    "#swap\n",
    "swap(l_1, 5, 2, 1)\n",
    "print(f\"After Swap: {l_1}\")\n",
    "\n",
    "\n",
    "nl_array = [\"a\", \"b\", \"c\", \"d\", \"e\"]\n",
    "print(f\"Before Swap: {nl_array}\")\n",
    "\n",
    "#swap\n",
    "swap(nl_array,  4, 2, 0)\n",
    "print(f\"After Swap: {nl_array}\")\n",
    "\n",
    "\n",
    "\n",
    "length = len(nl_array) -1\n",
    "for i in range(length):\n",
    "    nl_array[i] = nl_array[length - i]\n",
    "#     print(new_array[i])\n",
    "# array = new_array\n",
    "print(f\"New After: {nl_array}\")\n",
    "    "
   ]
  },
  {
   "cell_type": "markdown",
   "metadata": {},
   "source": [
    "## Two Pointers"
   ]
  },
  {
   "cell_type": "markdown",
   "metadata": {},
   "source": [
    "#### Syntax"
   ]
  },
  {
   "cell_type": "code",
   "execution_count": 31,
   "metadata": {},
   "outputs": [
    {
     "data": {
      "text/plain": [
       "[19, 17, 13, 9, 6, 2, 4, 7, 3, 4, 10]"
      ]
     },
     "execution_count": 31,
     "metadata": {},
     "output_type": "execute_result"
    }
   ],
   "source": [
    "#alist[left], alist[right] = alist[right], alist[left]\n",
    "\n",
    "def twoPointers(alist):\n",
    "    #create the pointers\n",
    "    left = 0\n",
    "    right = len(alist) - 1\n",
    "    #set up a loop that works through our list and swaps things one pair at a time\n",
    "    while left <= right:\n",
    "        alist[left], alist[right] = alist[right], alist[left]\n",
    "        left += 1\n",
    "        right -= 1\n",
    "    return alist\n",
    "\n",
    "pointer_list = [10, 4, 3, 7, 4, 2, 6, 9, 13, 17, 19]\n",
    "twoPointers(pointer_list)\n"
   ]
  },
  {
   "cell_type": "markdown",
   "metadata": {},
   "source": [
    "#### Video of Algorithms <br>\n",
    "<p>Watch the video about algorithms.</p>\n",
    "\n",
    "https://www.youtube.com/watch?v=Q9HjeFD62Uk\n",
    "\n",
    "https://www.youtube.com/watch?v=kPRA0W1kECg\n",
    "\n",
    "https://www.youtube.com/watch?v=ZZuD6iUe3Pc"
   ]
  },
  {
   "cell_type": "markdown",
   "metadata": {},
   "source": [
    "# Sorting Algorithms"
   ]
  },
  {
   "cell_type": "markdown",
   "metadata": {},
   "source": [
    "#### Bubble Sort\n",
    "\n",
    "Worst Case: O(n^2) Time - O(1) Space"
   ]
  },
  {
   "cell_type": "code",
   "execution_count": 39,
   "metadata": {},
   "outputs": [
    {
     "data": {
      "text/plain": [
       "[27, 29, 32, 43, 54, 75, 90, 100]"
      ]
     },
     "execution_count": 39,
     "metadata": {},
     "output_type": "execute_result"
    }
   ],
   "source": [
    "#Best case O(n) - linear\n",
    "#Sorts from beginning to end\n",
    "def swap(i, j, array):\n",
    "    array[i], array[j] = array[j], array[i]\n",
    "\n",
    "def bubbleSort(array):\n",
    "    isSorted = False\n",
    "    while not isSorted:\n",
    "        isSorted = True\n",
    "        for num in range(len(array) - 1):\n",
    "            if array[num] > array[num + 1]:\n",
    "                swap(num, num + 1, array)\n",
    "                isSorted = False\n",
    "    return array\n",
    "bubbleSort([32, 43,54,90, 29, 75, 27, 100])"
   ]
  },
  {
   "cell_type": "markdown",
   "metadata": {},
   "source": [
    "##### Insertion Sort\n",
    "\n",
    "Worst Case: O(n^2) time - O(1)space"
   ]
  },
  {
   "cell_type": "code",
   "execution_count": 43,
   "metadata": {},
   "outputs": [
    {
     "data": {
      "text/plain": [
       "[27, 29, 32, 43, 54, 75, 90, 100]"
      ]
     },
     "execution_count": 43,
     "metadata": {},
     "output_type": "execute_result"
    }
   ],
   "source": [
    "#\n",
    "\n",
    "def swap(i, j, array):\n",
    "    array[i], array[j] = array[j], array[i]\n",
    "    \n",
    "def insertionSort(array):\n",
    "    for i in range(1, len(array)):\n",
    "        j = i\n",
    "        while j > 0 and array[j] < array[j-1]:\n",
    "            swap(j, j-1, array)\n",
    "            j -= 1\n",
    "    return array\n",
    "    \n",
    "insertionSort([32, 43,54,90, 29, 75, 27, 100])"
   ]
  },
  {
   "cell_type": "markdown",
   "metadata": {},
   "source": [
    "## Merge Sort"
   ]
  },
  {
   "cell_type": "markdown",
   "metadata": {},
   "source": [
    "#### How it Works"
   ]
  },
  {
   "cell_type": "code",
   "execution_count": 53,
   "metadata": {},
   "outputs": [
    {
     "name": "stdout",
     "output_type": "stream",
     "text": [
      "Splitting:... [14, 15, 18, 19, 4]\n",
      "Splitting:... [14, 15]\n",
      "Splitting:... [14]\n",
      "Merging:...[14]\n",
      "Splitting:... [15]\n",
      "Merging:...[15]\n",
      "Merging:...[14, 15]\n",
      "Splitting:... [18, 19, 4]\n",
      "Splitting:... [18]\n",
      "Merging:...[18]\n",
      "Splitting:... [19, 4]\n",
      "Splitting:... [19]\n",
      "Merging:...[19]\n",
      "Splitting:... [4]\n",
      "Merging:...[4]\n",
      "Merging:...[4, 19]\n",
      "Merging:...[4, 18, 19]\n",
      "Merging:...[4, 14, 15, 18, 19]\n"
     ]
    },
    {
     "data": {
      "text/plain": [
       "[4, 14, 15, 18, 19]"
      ]
     },
     "execution_count": 53,
     "metadata": {},
     "output_type": "execute_result"
    }
   ],
   "source": [
    "#Step 1 split everything into it's own group\n",
    "#Step 2 from left to right, merge two groups together\n",
    "#Step 3 while merging, place everything in the correct position in the merged groups\n",
    "#Step 4 continue steps 3-4 until everything is merged\n",
    "\n",
    "\n",
    "#importing a random list of 5 numbers from 0 -20\n",
    "from random import randint\n",
    "\n",
    "nums = [randint(0, 20) for i in range(5)]\n",
    "\n",
    "def mergeSort(a_List):\n",
    "    print(f\"Splitting:... {a_List}\")\n",
    "    \n",
    "    #Step 1 divide the array into equal parts as much as possible\n",
    "    if len(a_List) > 1:\n",
    "        mid = len(a_List) // 2\n",
    "        leftHalf = a_List[:mid]\n",
    "        rightHalf = a_List[mid:]\n",
    "        \n",
    "        #recursively call mergeSort to perform splits, if needed\n",
    "        #THEN merge once the splits are done\n",
    "        \n",
    "        mergeSort(leftHalf)\n",
    "        mergeSort(rightHalf)\n",
    "        \n",
    "        #index pointers for the list\n",
    "        i = 0 #pointer for leftHalf\n",
    "        j = 0 # pointer for rightHalf\n",
    "        k = 0 # pointer for main array\n",
    "        \n",
    "        # Step 2 Compare the leftHalf and rightHalf\n",
    "        while i < len(leftHalf) and j < len(rightHalf):\n",
    "            if leftHalf[i] < rightHalf[j]:\n",
    "                a_List[k] = leftHalf[i]\n",
    "                i += 1\n",
    "            else:\n",
    "                a_List[k] = rightHalf[j]\n",
    "                j+= 1\n",
    "            k += 1\n",
    "            \n",
    "        #Step 3 while merging, place items in correct position\n",
    "        while i < len(leftHalf):\n",
    "            a_List[k] = leftHalf[i]\n",
    "            i += 1\n",
    "            k += 1\n",
    "        while j < len(rightHalf):\n",
    "            a_List[k] = rightHalf[j]\n",
    "            j += 1\n",
    "            k += 1\n",
    "    print(f\"Merging:...{a_List}\")\n",
    "    return a_List\n",
    "\n",
    "mergeSort(nums)"
   ]
  },
  {
   "cell_type": "markdown",
   "metadata": {},
   "source": [
    "# Binary Search\n",
    "\n",
    "The Binary Search algorithm works by finding the number in the middle of a given array and comparing it to the target. Given that the array is sorted\n",
    "\n",
    "* The worst case run time for this algorithm is `O(log(n))`"
   ]
  },
  {
   "cell_type": "code",
   "execution_count": 66,
   "metadata": {},
   "outputs": [
    {
     "data": {
      "text/plain": [
       "'The value is:...-1'"
      ]
     },
     "execution_count": 66,
     "metadata": {},
     "output_type": "execute_result"
    }
   ],
   "source": [
    "#Already in order so:\n",
    "#Less is to left\n",
    "# More is to right\n",
    "# List of numbers must be sorted\n",
    "\n",
    "def binarySearchHelperFunction(array, target, left, right):\n",
    "    while left <= right:\n",
    "        middle = (left + right) // 2\n",
    "        potentialMatch = array[middle]\n",
    "        \n",
    "        if target == potentialMatch:\n",
    "            return f\"The index is:...{middle}.\"\n",
    "        elif target < potentialMatch:\n",
    "            right = middle -1\n",
    "        else:\n",
    "            left = middle + 1\n",
    "    return \"The value is:...\" + \"-1\"\n",
    "\n",
    "def binarySearch(array, target):\n",
    "    return binarySearchHelperFunction(array, target, 0, len(array) - 1)\n",
    "\n",
    "# binarySearch([22,44,55,66,88, 100], 44)\n",
    "binarySearch([32, 43, 54, 90, 29, 75, 27, 100, 55], 43)"
   ]
  },
  {
   "cell_type": "markdown",
   "metadata": {},
   "source": [
    "# Exercises"
   ]
  },
  {
   "cell_type": "markdown",
   "metadata": {},
   "source": [
    "### Exercise #1 <br>\n",
    "<p>Reverse the list below in-place using an in-place algorithm.<br>For extra credit: Reverse the strings at the same time.</p>"
   ]
  },
  {
   "cell_type": "code",
   "execution_count": 134,
   "metadata": {},
   "outputs": [
    {
     "name": "stdout",
     "output_type": "stream",
     "text": [
      "Reversed Array using slicing: ['.', 'sentence', 'a', 'is', 'this']\n",
      "The Original Array: ['this', 'is', 'a', 'sentence', '.']\n",
      "The Reversed Array using Swap: ['.', 'sentence', 'a', 'is', 'this']\n"
     ]
    }
   ],
   "source": [
    "words = ['this' , 'is', 'a', 'sentence', '.']\n",
    "\n",
    "#output = [ '.', 'sentence' , 'a', 'is', 'this']\n",
    "\n",
    "def revList(words):\n",
    "    return words[::-1]\n",
    "print(f\"Reversed Array using slicing: {revList(words)}\")\n",
    "\n",
    "def revAlgo(words, a):\n",
    "    for i in range(0, int(a/2)):\n",
    "        words[i], words[a - i - 1] = words[a - i - 1], words[i]\n",
    "        \n",
    "        \n",
    "if __name__ == \"__main__\":\n",
    "     \n",
    "    print(f\"The Original Array: {words}\")\n",
    "    revAlgo(words, len(words))\n",
    "    print(f\"The Reversed Array using Swap: {words}\")\n",
    "   \n",
    "     \n",
    "    "
   ]
  },
  {
   "cell_type": "markdown",
   "metadata": {},
   "source": [
    "### Exercise #2 <br>\n",
    "<p>Create a function that counts how many distinct words are in the string below, then outputs a dictionary with the words as the key and the value as the amount of times that word appears in the string.<br>Should output:<br>{'a': 5,<br>\n",
    " 'abstract': 1,<br>\n",
    " 'an': 3,<br>\n",
    " 'array': 2, ... etc...</p>"
   ]
  },
  {
   "cell_type": "code",
   "execution_count": 186,
   "metadata": {},
   "outputs": [
    {
     "name": "stdout",
     "output_type": "stream",
     "text": [
      "a: 5\n",
      "abstract: 1\n",
      "an: 3\n",
      "array: 2\n",
      "associative: 1\n",
      "be: 1\n",
      "buckets: 1\n",
      "can: 2\n",
      "compute: 1\n",
      "computing,: 1\n",
      "data: 2\n",
      "desired: 1\n",
      "found: 1\n",
      "from: 1\n",
      "function: 1\n",
      "hash: 4\n",
      "implements: 1\n",
      "in: 1\n",
      "index: 1\n",
      "into: 1\n",
      "is: 1\n",
      "keys: 1\n",
      "map: 2\n",
      "of: 1\n",
      "or: 1\n",
      "slots: 1\n",
      "structure: 2\n",
      "table: 2\n",
      "that: 1\n",
      "the: 1\n",
      "to: 2\n",
      "type,: 1\n",
      "uses: 1\n",
      "value: 1\n",
      "values.: 1\n",
      "which: 2\n",
      "None\n"
     ]
    }
   ],
   "source": [
    "a_text = 'In computing, a hash table hash map is a data structure which implements an associative array abstract data type, a structure that can map keys to values. A hash table uses a hash function to compute an index into an array of buckets or slots from which the desired value can be found'\n",
    "\n",
    "#Look up hash tables and hash maps\n",
    "\n",
    "\n",
    "def countWords(a_text):\n",
    " \n",
    "    freq = {}\n",
    "    for words in a_text.split(\" \"):\n",
    "        if (words.lower() in freq):\n",
    "            freq[words.lower()] += 1\n",
    "        else:\n",
    "            freq[words.lower()] = 1\n",
    " \n",
    "    for key, value in sorted(freq.items()):\n",
    "        print (f\"{key}: {value}\")\n",
    " \n",
    "\n",
    "if __name__ == \"__main__\":\n",
    "    a_text\n",
    "    \n",
    "\n",
    "print(countWords(a_text))\n"
   ]
  },
  {
   "cell_type": "markdown",
   "metadata": {},
   "source": [
    "## Exercise #3\n",
    "\n",
    "Write a program to implement a Linear Search Algorithm. Also in a comment, write the Time Complexity of the following algorithm.\n",
    "\n",
    "#### Hint: Linear Searching will require searching a list for a given number. "
   ]
  },
  {
   "cell_type": "code",
   "execution_count": 112,
   "metadata": {},
   "outputs": [
    {
     "name": "stdout",
     "output_type": "stream",
     "text": [
      "3\n"
     ]
    }
   ],
   "source": [
    "nums_list = [10, 23, 45, 70, 11, 15]\n",
    "target = 70\n",
    "\n",
    "#if number is not present return -1\n",
    "\n",
    "\n",
    "def linearSearchEx3(nums_list, target):\n",
    "    for i in range( len(nums_list)):\n",
    "        if(nums_list[i] == target):\n",
    "            return i\n",
    "    return -1\n",
    "\n",
    "\n",
    "print(linearSearchEx3(nums_list, target))\n",
    "#Time complexity is O(n)"
   ]
  }
 ],
 "metadata": {
  "kernelspec": {
   "display_name": "Python 3 (ipykernel)",
   "language": "python",
   "name": "python3"
  },
  "language_info": {
   "codemirror_mode": {
    "name": "ipython",
    "version": 3
   },
   "file_extension": ".py",
   "mimetype": "text/x-python",
   "name": "python",
   "nbconvert_exporter": "python",
   "pygments_lexer": "ipython3",
   "version": "3.9.12"
  },
  "vscode": {
   "interpreter": {
    "hash": "98590ff4fe04c8543246b2a01debd3de3c5ca9b666f43f1fa87d5110c692004c"
   }
  }
 },
 "nbformat": 4,
 "nbformat_minor": 2
}
